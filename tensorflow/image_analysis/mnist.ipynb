{
 "cells": [
  {
   "cell_type": "code",
   "execution_count": 2,
   "metadata": {
    "collapsed": true
   },
   "outputs": [
    {
     "name": "stderr",
     "output_type": "stream",
     "text": [
      "WARNING: Logging before flag parsing goes to stderr.\n",
      "W0822 13:22:52.333013  5728 deprecation.py:323] From <ipython-input-2-62470c603cc6>:10: read_data_sets (from tensorflow.contrib.learn.python.learn.datasets.mnist) is deprecated and will be removed in a future version.\n",
      "Instructions for updating:\n",
      "Please use alternatives such as official/mnist/dataset.py from tensorflow/models.\n",
      "W0822 13:22:52.333972  5728 deprecation.py:323] From C:\\ProgramData\\Anaconda3\\lib\\site-packages\\tensorflow\\contrib\\learn\\python\\learn\\datasets\\mnist.py:260: maybe_download (from tensorflow.contrib.learn.python.learn.datasets.base) is deprecated and will be removed in a future version.\n",
      "Instructions for updating:\n",
      "Please write your own downloading logic.\n",
      "W0822 13:22:52.335007  5728 deprecation.py:323] From C:\\ProgramData\\Anaconda3\\lib\\site-packages\\tensorflow\\contrib\\learn\\python\\learn\\datasets\\mnist.py:262: extract_images (from tensorflow.contrib.learn.python.learn.datasets.mnist) is deprecated and will be removed in a future version.\n",
      "Instructions for updating:\n",
      "Please use tf.data to implement this functionality.\n"
     ]
    },
    {
     "name": "stdout",
     "output_type": "stream",
     "text": [
      "Extracting ./mnist/data/train-images-idx3-ubyte.gz\n"
     ]
    },
    {
     "name": "stderr",
     "output_type": "stream",
     "text": [
      "W0822 13:22:52.552421  5728 deprecation.py:323] From C:\\ProgramData\\Anaconda3\\lib\\site-packages\\tensorflow\\contrib\\learn\\python\\learn\\datasets\\mnist.py:267: extract_labels (from tensorflow.contrib.learn.python.learn.datasets.mnist) is deprecated and will be removed in a future version.\n",
      "Instructions for updating:\n",
      "Please use tf.data to implement this functionality.\n",
      "W0822 13:22:52.554418  5728 deprecation.py:323] From C:\\ProgramData\\Anaconda3\\lib\\site-packages\\tensorflow\\contrib\\learn\\python\\learn\\datasets\\mnist.py:110: dense_to_one_hot (from tensorflow.contrib.learn.python.learn.datasets.mnist) is deprecated and will be removed in a future version.\n",
      "Instructions for updating:\n",
      "Please use tf.one_hot on tensors.\n",
      "W0822 13:22:52.596270  5728 deprecation.py:323] From C:\\ProgramData\\Anaconda3\\lib\\site-packages\\tensorflow\\contrib\\learn\\python\\learn\\datasets\\mnist.py:290: DataSet.__init__ (from tensorflow.contrib.learn.python.learn.datasets.mnist) is deprecated and will be removed in a future version.\n",
      "Instructions for updating:\n",
      "Please use alternatives such as official/mnist/dataset.py from tensorflow/models.\n"
     ]
    },
    {
     "name": "stdout",
     "output_type": "stream",
     "text": [
      "Extracting ./mnist/data/train-labels-idx1-ubyte.gz\n",
      "Extracting ./mnist/data/t10k-images-idx3-ubyte.gz\n",
      "Extracting ./mnist/data/t10k-labels-idx1-ubyte.gz\n",
      "[[0. 0. 0. 0. 0. 0. 0. 1. 0. 0.]]\n"
     ]
    },
    {
     "data": {
      "text/plain": [
       "<Figure size 640x480 with 1 Axes>"
      ]
     },
     "metadata": {},
     "output_type": "display_data"
    }
   ],
   "source": [
    "# MNIST (Modified National Institute of Standards and Technology database) \n",
    "# 손글씨체 이미지 : 28*28 = 784 (0, 1, 2, 3, 4, 5, 6, 7, 8, 9) : 10진수, 10개 \n",
    "# train data : 55000개 : train-images-idx3-ubyte.gz\n",
    "# test data : 10000개  : t10k-images-idx3-ubyte.gz\n",
    "\n",
    "import tensorflow as tf\n",
    "from tensorflow.examples.tutorials.mnist import input_data\n",
    "import matplotlib.pyplot as plt\n",
    "\n",
    "mnist = input_data.read_data_sets(\"./mnist/data/\", one_hot = True)\n",
    "mnist.train.images.shape # (55000, 784)\n",
    "mnist.train.labels.shape # (55000, 10)\n",
    "\n",
    "mnist.test.images.shape # (10000, 784)\n",
    "mnist.test.labels.shape # (10000, 10)\n",
    "\n",
    "num = 0\n",
    "plt.imshow(mnist.train.images[num:num+1].reshape(28, 28),\n",
    "          cmap='BuPu', interpolation='nearest')\n",
    "print(mnist.train.labels[num:num+1])\n",
    "plt.show()"
   ]
  },
  {
   "cell_type": "code",
   "execution_count": 3,
   "metadata": {
    "collapsed": true
   },
   "outputs": [
    {
     "name": "stdout",
     "output_type": "stream",
     "text": [
      "Epoch: 0001 cost: 1.390190709\n",
      "Epoch: 0002 cost: 0.517888351\n",
      "Epoch: 0003 cost: 0.425298647\n",
      "Epoch: 0004 cost: 0.379104451\n",
      "Epoch: 0005 cost: 0.351755339\n",
      "Epoch: 0006 cost: 0.331415691\n",
      "Epoch: 0007 cost: 0.317070316\n",
      "Epoch: 0008 cost: 0.310643394\n",
      "Epoch: 0009 cost: 0.300964801\n",
      "Epoch: 0010 cost: 0.295623685\n",
      "Epoch: 0011 cost: 0.289584795\n",
      "Epoch: 0012 cost: 0.285357290\n",
      "Epoch: 0013 cost: 0.283448807\n",
      "Epoch: 0014 cost: 0.278463962\n",
      "Epoch: 0015 cost: 0.275974332\n",
      "Learning Finished!!\n",
      "train images total number =  55000\n",
      "test image total number =  10000\n",
      "\n",
      "Accuracy: [0.9177]\n"
     ]
    },
    {
     "ename": "NameError",
     "evalue": "name 'random' is not defined",
     "output_type": "error",
     "traceback": [
      "\u001b[1;31m---------------------------------------------------------------------------\u001b[0m",
      "\u001b[1;31mNameError\u001b[0m                                 Traceback (most recent call last)",
      "\u001b[1;32m<ipython-input-3-0a69e3abfc95>\u001b[0m in \u001b[0;36m<module>\u001b[1;34m\u001b[0m\n\u001b[0;32m     52\u001b[0m \u001b[1;33m\u001b[0m\u001b[0m\n\u001b[0;32m     53\u001b[0m \u001b[1;31m# get one random test data and predict\u001b[0m\u001b[1;33m\u001b[0m\u001b[1;33m\u001b[0m\u001b[1;33m\u001b[0m\u001b[0m\n\u001b[1;32m---> 54\u001b[1;33m \u001b[0mr\u001b[0m \u001b[1;33m=\u001b[0m \u001b[0mrandom\u001b[0m\u001b[1;33m.\u001b[0m\u001b[0mrandint\u001b[0m\u001b[1;33m(\u001b[0m\u001b[1;36m0\u001b[0m\u001b[1;33m,\u001b[0m\u001b[0mmnist\u001b[0m\u001b[1;33m.\u001b[0m\u001b[0mtest\u001b[0m\u001b[1;33m.\u001b[0m\u001b[0mnum_examples\u001b[0m \u001b[1;33m-\u001b[0m \u001b[1;36m1\u001b[0m\u001b[1;33m)\u001b[0m \u001b[1;31m# 0 to 9999 random int number\u001b[0m\u001b[1;33m\u001b[0m\u001b[1;33m\u001b[0m\u001b[0m\n\u001b[0m\u001b[0;32m     55\u001b[0m \u001b[0mprint\u001b[0m\u001b[1;33m(\u001b[0m\u001b[1;34m'Label :'\u001b[0m\u001b[1;33m,\u001b[0m \u001b[0msess\u001b[0m\u001b[1;33m.\u001b[0m\u001b[0mrun\u001b[0m\u001b[1;33m(\u001b[0m\u001b[0mtf\u001b[0m\u001b[1;33m.\u001b[0m\u001b[0margmax\u001b[0m\u001b[1;33m(\u001b[0m\u001b[0mmnist\u001b[0m\u001b[1;33m.\u001b[0m\u001b[0mtest\u001b[0m\u001b[1;33m.\u001b[0m\u001b[0mlabels\u001b[0m\u001b[1;33m[\u001b[0m\u001b[0mr\u001b[0m\u001b[1;33m:\u001b[0m\u001b[0mr\u001b[0m\u001b[1;33m+\u001b[0m\u001b[1;36m1\u001b[0m\u001b[1;33m]\u001b[0m\u001b[1;33m,\u001b[0m\u001b[1;36m1\u001b[0m \u001b[1;33m)\u001b[0m\u001b[1;33m)\u001b[0m\u001b[1;33m)\u001b[0m\u001b[1;33m\u001b[0m\u001b[1;33m\u001b[0m\u001b[0m\n\u001b[0;32m     56\u001b[0m \u001b[1;33m\u001b[0m\u001b[0m\n",
      "\u001b[1;31mNameError\u001b[0m: name 'random' is not defined"
     ]
    }
   ],
   "source": [
    "import tensorflow as tf\n",
    "tf.set_random_seed(777)\n",
    "learning_rate = 0.01\n",
    "training_epochs = 15\n",
    "batch_size = 100\n",
    "\n",
    "X = tf.placeholder(tf.float32,shape=[None,784]) # 28*28\n",
    "Y = tf.placeholder(tf.float32,shape=[None,10])\n",
    "\n",
    "W = tf.Variable(tf.random_normal([784,10]), name='weight')\n",
    "b = tf.Variable(tf.random_normal([10]), name='bias')\n",
    "\n",
    "logits = tf.matmul(X,W) + b # (?, 784) * (784, 10) = (? 10)\n",
    "hypothesis = tf.nn.softmax(logits)\n",
    "\n",
    "#cost = tf.reduce_mean(-tf.reduce_sum(Y*tf.log(hypothesis), axis=1))\n",
    "\n",
    "cost =  tf.reduce_mean(tf.nn.softmax_cross_entropy_with_logits_v2(logits = logits,\n",
    "                                             labels = Y))\n",
    "# optimizer = tf.train.GradientDescentOptimizer(learning_rate=learning_rate).minimize(cost)\n",
    "optimizer = tf.train.AdamOptimizer(learning_rate=learning_rate).minimize(cost)\n",
    "\n",
    "sess = tf.Session()\n",
    "sess.run(tf.global_variables_initializer())\n",
    "\n",
    "# start training\n",
    "for epoch in range(training_epochs) :  # 15\n",
    "    avg_cost = 0\n",
    "    # 550 = 55000/100\n",
    "    total_batch = int(mnist.train.num_examples/batch_size)\n",
    "    for i in range(total_batch) :\n",
    "        batch_xs, batch_ys = mnist.train.next_batch(batch_size) \n",
    "        # unpacking , next_bacth: 랜덤으로 돌리고 남은 것을  \n",
    "        feed_dict = { X:batch_xs , Y:batch_ys}\n",
    "        c,_= sess.run([cost,optimizer],\n",
    "                      feed_dict = feed_dict )\n",
    "        avg_cost += c / total_batch\n",
    "    print('Epoch:','%04d'%(epoch + 1), 'cost:','{:.9f}'.format(avg_cost))\n",
    "\n",
    "print(\"Learning Finished!!\")\n",
    "\n",
    "# Test model and check accuracy\n",
    "# accuracy computation\n",
    "predict = tf.argmax(hypothesis,1)\n",
    "correct_predict = tf.equal(predict,tf.argmax(Y,1))\n",
    "accuracy = tf.reduce_mean(tf.cast(correct_predict,\n",
    "                                     dtype = tf.float32))\n",
    "a = sess.run([accuracy],feed_dict={X:mnist.test.images, Y:mnist.test.labels})\n",
    "print('train images total number = ', mnist.train.num_examples) # 55000\n",
    "print('test image total number = ', mnist.test.num_examples)    # 10000\n",
    "print(\"\\nAccuracy:\",a)"
   ]
  },
  {
   "cell_type": "markdown",
   "metadata": {},
   "source": [
    "### mini batch : 대용량 데이터에서 표본추출"
   ]
  },
  {
   "cell_type": "markdown",
   "metadata": {},
   "source": [
    "##  * 정확도 향상 방안\n",
    "\n",
    "### 1. AdamOptimizer 사용\n",
    "\n",
    "### 2. ReLU : Rectified 사용 \n",
    "\n",
    "### 3. xavier_initializer 사용 : weight의 초기값을 할당 \n",
    "\n",
    "### 4. DNN 사용 : 3층 --> 5층 \n",
    "\n",
    "### 5. dropout 사용 \n",
    "\n",
    "정확도가 약 97%으로 향상 \n",
    "\n",
    "\n",
    "### 6. CNN(합성곱 신경망)\n",
    "\n",
    "### 7. ensemble 사용 \n",
    "\n",
    "정확도가 약 99.5%으로 향상 "
   ]
  },
  {
   "cell_type": "code",
   "execution_count": 1,
   "metadata": {},
   "outputs": [
    {
     "name": "stderr",
     "output_type": "stream",
     "text": [
      "C:\\ProgramData\\Anaconda3\\lib\\site-packages\\tensorflow\\python\\framework\\dtypes.py:516: FutureWarning: Passing (type, 1) or '1type' as a synonym of type is deprecated; in a future version of numpy, it will be understood as (type, (1,)) / '(1,)type'.\n",
      "  _np_qint8 = np.dtype([(\"qint8\", np.int8, 1)])\n",
      "C:\\ProgramData\\Anaconda3\\lib\\site-packages\\tensorflow\\python\\framework\\dtypes.py:517: FutureWarning: Passing (type, 1) or '1type' as a synonym of type is deprecated; in a future version of numpy, it will be understood as (type, (1,)) / '(1,)type'.\n",
      "  _np_quint8 = np.dtype([(\"quint8\", np.uint8, 1)])\n",
      "C:\\ProgramData\\Anaconda3\\lib\\site-packages\\tensorflow\\python\\framework\\dtypes.py:518: FutureWarning: Passing (type, 1) or '1type' as a synonym of type is deprecated; in a future version of numpy, it will be understood as (type, (1,)) / '(1,)type'.\n",
      "  _np_qint16 = np.dtype([(\"qint16\", np.int16, 1)])\n",
      "C:\\ProgramData\\Anaconda3\\lib\\site-packages\\tensorflow\\python\\framework\\dtypes.py:519: FutureWarning: Passing (type, 1) or '1type' as a synonym of type is deprecated; in a future version of numpy, it will be understood as (type, (1,)) / '(1,)type'.\n",
      "  _np_quint16 = np.dtype([(\"quint16\", np.uint16, 1)])\n",
      "C:\\ProgramData\\Anaconda3\\lib\\site-packages\\tensorflow\\python\\framework\\dtypes.py:520: FutureWarning: Passing (type, 1) or '1type' as a synonym of type is deprecated; in a future version of numpy, it will be understood as (type, (1,)) / '(1,)type'.\n",
      "  _np_qint32 = np.dtype([(\"qint32\", np.int32, 1)])\n",
      "C:\\ProgramData\\Anaconda3\\lib\\site-packages\\tensorflow\\python\\framework\\dtypes.py:525: FutureWarning: Passing (type, 1) or '1type' as a synonym of type is deprecated; in a future version of numpy, it will be understood as (type, (1,)) / '(1,)type'.\n",
      "  np_resource = np.dtype([(\"resource\", np.ubyte, 1)])\n",
      "C:\\ProgramData\\Anaconda3\\lib\\site-packages\\tensorboard\\compat\\tensorflow_stub\\dtypes.py:541: FutureWarning: Passing (type, 1) or '1type' as a synonym of type is deprecated; in a future version of numpy, it will be understood as (type, (1,)) / '(1,)type'.\n",
      "  _np_qint8 = np.dtype([(\"qint8\", np.int8, 1)])\n",
      "C:\\ProgramData\\Anaconda3\\lib\\site-packages\\tensorboard\\compat\\tensorflow_stub\\dtypes.py:542: FutureWarning: Passing (type, 1) or '1type' as a synonym of type is deprecated; in a future version of numpy, it will be understood as (type, (1,)) / '(1,)type'.\n",
      "  _np_quint8 = np.dtype([(\"quint8\", np.uint8, 1)])\n",
      "C:\\ProgramData\\Anaconda3\\lib\\site-packages\\tensorboard\\compat\\tensorflow_stub\\dtypes.py:543: FutureWarning: Passing (type, 1) or '1type' as a synonym of type is deprecated; in a future version of numpy, it will be understood as (type, (1,)) / '(1,)type'.\n",
      "  _np_qint16 = np.dtype([(\"qint16\", np.int16, 1)])\n",
      "C:\\ProgramData\\Anaconda3\\lib\\site-packages\\tensorboard\\compat\\tensorflow_stub\\dtypes.py:544: FutureWarning: Passing (type, 1) or '1type' as a synonym of type is deprecated; in a future version of numpy, it will be understood as (type, (1,)) / '(1,)type'.\n",
      "  _np_quint16 = np.dtype([(\"quint16\", np.uint16, 1)])\n",
      "C:\\ProgramData\\Anaconda3\\lib\\site-packages\\tensorboard\\compat\\tensorflow_stub\\dtypes.py:545: FutureWarning: Passing (type, 1) or '1type' as a synonym of type is deprecated; in a future version of numpy, it will be understood as (type, (1,)) / '(1,)type'.\n",
      "  _np_qint32 = np.dtype([(\"qint32\", np.int32, 1)])\n",
      "C:\\ProgramData\\Anaconda3\\lib\\site-packages\\tensorboard\\compat\\tensorflow_stub\\dtypes.py:550: FutureWarning: Passing (type, 1) or '1type' as a synonym of type is deprecated; in a future version of numpy, it will be understood as (type, (1,)) / '(1,)type'.\n",
      "  np_resource = np.dtype([(\"resource\", np.ubyte, 1)])\n",
      "WARNING: Logging before flag parsing goes to stderr.\n",
      "W0822 13:38:50.787883 17440 deprecation.py:323] From <ipython-input-1-8da05deb74e4>:11: read_data_sets (from tensorflow.contrib.learn.python.learn.datasets.mnist) is deprecated and will be removed in a future version.\n",
      "Instructions for updating:\n",
      "Please use alternatives such as official/mnist/dataset.py from tensorflow/models.\n",
      "W0822 13:38:50.788880 17440 deprecation.py:323] From C:\\ProgramData\\Anaconda3\\lib\\site-packages\\tensorflow\\contrib\\learn\\python\\learn\\datasets\\mnist.py:260: maybe_download (from tensorflow.contrib.learn.python.learn.datasets.base) is deprecated and will be removed in a future version.\n",
      "Instructions for updating:\n",
      "Please write your own downloading logic.\n",
      "W0822 13:38:50.789878 17440 deprecation.py:323] From C:\\ProgramData\\Anaconda3\\lib\\site-packages\\tensorflow\\contrib\\learn\\python\\learn\\datasets\\mnist.py:262: extract_images (from tensorflow.contrib.learn.python.learn.datasets.mnist) is deprecated and will be removed in a future version.\n",
      "Instructions for updating:\n",
      "Please use tf.data to implement this functionality.\n"
     ]
    },
    {
     "name": "stdout",
     "output_type": "stream",
     "text": [
      "Extracting Data/mnist/train-images-idx3-ubyte.gz\n"
     ]
    },
    {
     "name": "stderr",
     "output_type": "stream",
     "text": [
      "W0822 13:38:51.007296 17440 deprecation.py:323] From C:\\ProgramData\\Anaconda3\\lib\\site-packages\\tensorflow\\contrib\\learn\\python\\learn\\datasets\\mnist.py:267: extract_labels (from tensorflow.contrib.learn.python.learn.datasets.mnist) is deprecated and will be removed in a future version.\n",
      "Instructions for updating:\n",
      "Please use tf.data to implement this functionality.\n",
      "W0822 13:38:51.014278 17440 deprecation.py:323] From C:\\ProgramData\\Anaconda3\\lib\\site-packages\\tensorflow\\contrib\\learn\\python\\learn\\datasets\\mnist.py:110: dense_to_one_hot (from tensorflow.contrib.learn.python.learn.datasets.mnist) is deprecated and will be removed in a future version.\n",
      "Instructions for updating:\n",
      "Please use tf.one_hot on tensors.\n",
      "W0822 13:38:51.062150 17440 deprecation.py:323] From C:\\ProgramData\\Anaconda3\\lib\\site-packages\\tensorflow\\contrib\\learn\\python\\learn\\datasets\\mnist.py:290: DataSet.__init__ (from tensorflow.contrib.learn.python.learn.datasets.mnist) is deprecated and will be removed in a future version.\n",
      "Instructions for updating:\n",
      "Please use alternatives such as official/mnist/dataset.py from tensorflow/models.\n"
     ]
    },
    {
     "name": "stdout",
     "output_type": "stream",
     "text": [
      "Extracting Data/mnist/train-labels-idx1-ubyte.gz\n",
      "Extracting Data/mnist/t10k-images-idx3-ubyte.gz\n",
      "Extracting Data/mnist/t10k-labels-idx1-ubyte.gz\n"
     ]
    },
    {
     "name": "stderr",
     "output_type": "stream",
     "text": [
      "W0822 13:38:51.292532 17440 deprecation.py:506] From <ipython-input-1-8da05deb74e4>:28: calling dropout (from tensorflow.python.ops.nn_ops) with keep_prob is deprecated and will be removed in a future version.\n",
      "Instructions for updating:\n",
      "Please use `rate` instead of `keep_prob`. Rate should be set to `rate = 1 - keep_prob`.\n"
     ]
    },
    {
     "name": "stdout",
     "output_type": "stream",
     "text": [
      "Epoch: 0001 cost: 0.468009234\n",
      "Epoch: 0002 cost: 0.172670936\n",
      "Epoch: 0003 cost: 0.133031546\n",
      "Epoch: 0004 cost: 0.109419808\n",
      "Epoch: 0005 cost: 0.091878431\n",
      "Epoch: 0006 cost: 0.083425110\n",
      "Epoch: 0007 cost: 0.074149079\n",
      "Epoch: 0008 cost: 0.069157889\n",
      "Epoch: 0009 cost: 0.060969515\n",
      "Epoch: 0010 cost: 0.060061064\n",
      "Epoch: 0011 cost: 0.057869749\n",
      "Epoch: 0012 cost: 0.051742477\n",
      "Epoch: 0013 cost: 0.050393211\n",
      "Epoch: 0014 cost: 0.048041355\n",
      "Epoch: 0015 cost: 0.047327923\n",
      "Learning Finished!!\n",
      "train images total number =  55000\n",
      "test image total number =  10000\n",
      "\n",
      "Accuracy: [0.9815]\n",
      "random= 8897 Label: [9]\n",
      "Prediction : [9]\n"
     ]
    },
    {
     "data": {
      "text/plain": [
       "<Figure size 640x480 with 1 Axes>"
      ]
     },
     "metadata": {},
     "output_type": "display_data"
    }
   ],
   "source": [
    "# mnist_nn_dropout.py\n",
    "# xavier initialzer\n",
    "# 5 Neural Network layers\n",
    "# Dropout\n",
    "\n",
    "import tensorflow as tf\n",
    "from tensorflow.examples.tutorials.mnist import input_data\n",
    "import random\n",
    "import matplotlib.pyplot as plt\n",
    "\n",
    "mnist = input_data.read_data_sets('Data/mnist/',one_hot=True)\n",
    "\n",
    "learning_rate = 0.001\n",
    "training_epochs = 15\n",
    "batch_size = 100\n",
    "\n",
    "X = tf.placeholder(tf.float32,shape=[None,784])\n",
    "Y = tf.placeholder(tf.float32,shape=[None,10])\n",
    "\n",
    "keep_prob = tf.placeholder(tf.float32)\n",
    "\n",
    "# W1 = tf.Variable(tf.random_normal([784,256]), name='weight1')\n",
    "W1 = tf.get_variable(\"W1\", shape = [784,512],\n",
    "            initializer=tf.contrib.layers.xavier_initializer())\n",
    "b1 = tf.Variable(tf.random_normal([512]), name='bias1')\n",
    "# L1 = tf.sigmoid(tf.matmul(X,W1) + b1 )\n",
    "L1 = tf.nn.relu(tf.matmul(X,W1) + b1 )\n",
    "L1 = tf.nn.dropout(L1,keep_prob=keep_prob )\n",
    "\n",
    "W2 = tf.get_variable(\"W2\", shape = [512,512],\n",
    "            initializer=tf.contrib.layers.xavier_initializer())\n",
    "b2 = tf.Variable(tf.random_normal([512]), name='bias2')\n",
    "# L2 = tf.sigmoid(tf.matmul(L1,W2) + b2 )\n",
    "L2 = tf.nn.relu(tf.matmul(L1,W2) + b2 )\n",
    "L2 = tf.nn.dropout(L2,keep_prob=keep_prob )\n",
    "\n",
    "W3 = tf.get_variable(\"W3\", shape = [512,512],\n",
    "            initializer=tf.contrib.layers.xavier_initializer())\n",
    "b3 = tf.Variable(tf.random_normal([512]), name='bias3')\n",
    "# L3 = tf.sigmoid(tf.matmul(L2,W3) + b3 )\n",
    "L3 = tf.nn.relu(tf.matmul(L2,W3) + b3 )\n",
    "L3 = tf.nn.dropout(L3,keep_prob=keep_prob )\n",
    "\n",
    "W4 = tf.get_variable(\"W4\", shape = [512,512],\n",
    "            initializer=tf.contrib.layers.xavier_initializer())\n",
    "b4 = tf.Variable(tf.random_normal([512]), name='bias4')\n",
    "# L4 = tf.sigmoid(tf.matmul(L3,W4) + b4 )\n",
    "L4 = tf.nn.relu(tf.matmul(L3,W4) + b4 )\n",
    "L4 = tf.nn.dropout(L4,keep_prob=keep_prob )\n",
    "\n",
    "W5 = tf.get_variable(\"W5\", shape = [512,10],\n",
    "            initializer=tf.contrib.layers.xavier_initializer())\n",
    "b5 = tf.Variable(tf.random_normal([10]), name='bias5')\n",
    "\n",
    "logits = tf.matmul(L4,W5) + b5\n",
    "hypothesis = tf.nn.softmax(logits)\n",
    "\n",
    "cost =  tf.reduce_mean(tf.nn.softmax_cross_entropy_with_logits_v2(logits = logits,\n",
    "                                             labels = Y))\n",
    "optimizer = tf.train.AdamOptimizer(learning_rate=learning_rate).minimize(cost)\n",
    "\n",
    "sess = tf.Session()\n",
    "sess.run(tf.global_variables_initializer())\n",
    "\n",
    "# start training\n",
    "for epoch in range(training_epochs) :  # 15\n",
    "    avg_cost = 0\n",
    "    # 550 = 55000/100\n",
    "    total_batch = int(mnist.train.num_examples/batch_size)\n",
    "    for i in range(total_batch) :\n",
    "        batch_xs, batch_ys = mnist.train.next_batch(batch_size)\n",
    "        feed_dict = { X:batch_xs , Y:batch_ys , keep_prob : 0.7}\n",
    "        c,_= sess.run([cost,optimizer],feed_dict = feed_dict )\n",
    "        avg_cost += c / total_batch\n",
    "    print('Epoch:','%04d'%(epoch + 1), 'cost:','{:.9f}'.format(avg_cost))\n",
    "\n",
    "print(\"Learning Finished!!\")\n",
    "\n",
    "# Test model and check accuracy\n",
    "# accuracy computation\n",
    "predict = tf.argmax(hypothesis,1)\n",
    "correct_predict = tf.equal(predict,tf.argmax(Y,1))\n",
    "accuracy = tf.reduce_mean(tf.cast(correct_predict,\n",
    "                                     dtype = tf.float32))\n",
    "a = sess.run([accuracy],feed_dict={X:mnist.test.images ,Y:mnist.test.labels,\n",
    "                                   keep_prob : 1})\n",
    "print('train images total number = ', mnist.train.num_examples) # 55000\n",
    "print('test image total number = ', mnist.test.num_examples)    # 10000\n",
    "print(\"\\nAccuracy:\",a)\n",
    "\n",
    "# get one random test data and predict\n",
    "r = random.randint(0,mnist.test.num_examples - 1) # 0 to 9999 random int number\n",
    "print(\"random=\",r, \"Label:\", sess.run(tf.argmax(mnist.test.labels[r:r+1],1 )))\n",
    "\n",
    "print(\"Prediction :\", sess.run(tf.argmax(hypothesis,1),\n",
    "                               feed_dict = { X: mnist.test.images[r:r+1],\n",
    "                                             keep_prob:1} ))\n",
    "\n",
    "# matplotlib : imshow()\n",
    "plt.imshow(mnist.test.images[r:r+1].reshape(28,28),\n",
    "           cmap='Greys', interpolation='nearest')  # 2차원 보간법\n",
    "\n",
    "plt.show()"
   ]
  },
  {
   "cell_type": "code",
   "execution_count": 2,
   "metadata": {},
   "outputs": [],
   "source": []
  },
  {
   "cell_type": "code",
   "execution_count": null,
   "metadata": {},
   "outputs": [],
   "source": []
  }
 ],
 "metadata": {
  "kernelspec": {
   "display_name": "Python 3",
   "language": "python",
   "name": "python3"
  },
  "language_info": {
   "codemirror_mode": {
    "name": "ipython",
    "version": 3
   },
   "file_extension": ".py",
   "mimetype": "text/x-python",
   "name": "python",
   "nbconvert_exporter": "python",
   "pygments_lexer": "ipython3",
   "version": "3.7.3"
  }
 },
 "nbformat": 4,
 "nbformat_minor": 2
}
